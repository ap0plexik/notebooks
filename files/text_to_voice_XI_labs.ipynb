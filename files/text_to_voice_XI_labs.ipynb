{
  "nbformat": 4,
  "nbformat_minor": 0,
  "metadata": {
    "colab": {
      "provenance": [],
      "authorship_tag": "ABX9TyOocijMdcW3R21VlZbN+P2k",
      "include_colab_link": true
    },
    "kernelspec": {
      "name": "python3",
      "display_name": "Python 3"
    },
    "language_info": {
      "name": "python"
    }
  },
  "cells": [
    {
      "cell_type": "markdown",
      "metadata": {
        "id": "view-in-github",
        "colab_type": "text"
      },
      "source": [
        "<a href=\"https://colab.research.google.com/github/ap0plexik/notebooks/blob/trunk/files/text_to_voice_XI_labs.ipynb\" target=\"_parent\"><img src=\"https://colab.research.google.com/assets/colab-badge.svg\" alt=\"Open In Colab\"/></a>"
      ]
    },
    {
      "cell_type": "markdown",
      "source": [
        "👆*If you're viewing this in Github, click the Colab link above.*"
      ],
      "metadata": {
        "id": "rdFoXqAsT_Bc"
      }
    },
    {
      "cell_type": "markdown",
      "source": [
        "# Convert Text to Voice Using ElevenLabs API\n",
        "\n"
      ],
      "metadata": {
        "id": "tPB82yeglZZr"
      }
    },
    {
      "cell_type": "markdown",
      "source": [
        "## Getting Started\n",
        "\n",
        "What you'll need:\n",
        " - ElevenLabs API Key\n",
        "  - Requres an [ElevenLabs](https://elevenlabs.io) Account\n",
        " - The text you want read aloud\n",
        " - A voice to read your text"
      ],
      "metadata": {
        "id": "VPvnPKaGGJ_B"
      }
    },
    {
      "cell_type": "code",
      "source": [
        "# Run this code block first\n",
        "\n",
        "!touch output.mp3\n",
        "!touch api-key.txt\n",
        "\n",
        "import requests"
      ],
      "metadata": {
        "id": "13cLMctCmg7t"
      },
      "execution_count": 2,
      "outputs": []
    },
    {
      "cell_type": "markdown",
      "source": [
        "🛑 **Set up your configuration.**\n",
        "\n",
        "1. **Open up the file browser.**<p>In the left sidebar, click the folder icon to show the files in this runtime. If nothing appears, hit the little folder/refresh icon at the top of the sidebar.</p>\n",
        "\n",
        "2. **Open `api-key.txt` and paste in your ElevenLabs API key.**<p>To get your API Key (after you've created your ElevenLabs account), click on your profile photo in the top right of the screen on their site and click on \"Profile.\" It will open a box that contains your Email Address and API Key.  Click on the eye icon to reveal your API key.  It's a long string of text and numbers. Copy that and paste it into `api-key.txt`.</p><p>This is done for security: your API key won't be stored in this actual document and it will be destroyed when the runtime is stopped.</p>\n",
        "\n",
        "3. **Below, set the `input_text` that you want spoken.**<p>\n",
        "Don't forget that Free Tier ElevenLabs users get 10,000 characters (letters) per month.</p>\n",
        "\n",
        "4. **Below, choose the name of the voice you want.**<p>ElevenLabs has several voices you can choose from. You can listen to the voices here: https://beta.elevenlabs.io/speech-synthesis. In the config, just type in the name you want, in all lowercase letters.</p>"
      ],
      "metadata": {
        "id": "nc--m8B8PEPX"
      }
    },
    {
      "cell_type": "code",
      "source": [
        "### Config\n",
        "\n",
        "input_text=\"Insert text between these quotation marks.\"\n",
        "\n",
        "voice_name = 'rachel'\n",
        "\n",
        "# Don't forget to run this code block when you're ready to proceed"
      ],
      "metadata": {
        "id": "ICNsz8CYOiTC"
      },
      "execution_count": 3,
      "outputs": []
    },
    {
      "cell_type": "markdown",
      "source": [
        "## Set up the API Request\n"
      ],
      "metadata": {
        "id": "R6x9Qj9PGMzL"
      }
    },
    {
      "cell_type": "code",
      "source": [
        "voices = {\n",
        "    'rachel' : '21m00Tcm4TlvDq8ikWAM',\n",
        "    'domi'   : 'AZnzlk1XvdvUeBnXmlld',\n",
        "    'bella'  : 'EXAVITQu4vr4xnSDxMaL',\n",
        "    'antoni' : 'ErXwobaYiN019PkySvjV',\n",
        "    'elli'   : 'MF3mGyEYCl7XYWbV9V6O',\n",
        "    'josh'   : 'TxGEqnHWrfWFTfGW9XjX',\n",
        "    'arnold' : 'VR6AewLTigWG4xSOukaG',\n",
        "    'adam'   : 'pNInz6obpgDQGcFmaJgB',\n",
        "    'sam'    : 'yoZ06aMxZJJ28mfd3POQ'\n",
        "}\n",
        "\n",
        "# Handy function to read the contents of a text file.\n",
        "def open_file(filepath):\n",
        "    with open(filepath, 'r', encoding='utf-8') as infile:\n",
        "              return infile.read()\n",
        "\n",
        "if __name__ == '__main__':\n",
        "    # Set the values for running the API Request in the next step.\n",
        "    url = 'https://api.elevenlabs.io/v1/text-to-speech/' + voices[voice_name]\n",
        "    headers ={\n",
        "        'accept': 'audio/mpeg',\n",
        "        'xi-api-key': open_file('api-key.txt'),\n",
        "        'Content-Type': 'application/json'\n",
        "    }\n",
        "    data = {\n",
        "        'text': input_text,\n",
        "        'voice_settings': {\n",
        "            'stability': 0.6,\n",
        "            'similarity_boost': 0.85,\n",
        "        }\n",
        "    }"
      ],
      "metadata": {
        "id": "P8PuJ5JKClL4"
      },
      "execution_count": 5,
      "outputs": []
    },
    {
      "cell_type": "markdown",
      "source": [
        "## Run the API Request"
      ],
      "metadata": {
        "id": "gDjCU7b4zn8k"
      }
    },
    {
      "cell_type": "markdown",
      "source": [
        "In the left sidebar, the `output.mp3` file will contain the final voice recording."
      ],
      "metadata": {
        "id": "Hg5nvli-zq7-"
      }
    },
    {
      "cell_type": "code",
      "source": [
        "# Run the Request.\n",
        "response = requests.post(url, headers=headers, json=data)\n",
        "if response.status_code == 200:\n",
        "    with open('output.mp3', 'wb') as f:\n",
        "      f.write(response.content)\n",
        "    print('Text to Speech conversion successful.')\n",
        "    print('download output.mp3 to get your spoken text')\n",
        "else:\n",
        "    print('Error:', response)"
      ],
      "metadata": {
        "id": "plO6W3ZbmuHp"
      },
      "execution_count": null,
      "outputs": []
    },
    {
      "cell_type": "markdown",
      "source": [
        "## Resources"
      ],
      "metadata": {
        "id": "QcIRRMf-nWH_"
      }
    },
    {
      "cell_type": "markdown",
      "source": [
        "This Sheet was created by [Ap0plexik](https://github.com/ap0plexik/notebooks).\n",
        "\n",
        "It is based on a tutorial by the [All About AI YouTube Channel](https://www.youtube.com/watch?v=pH6ki1tjC38)"
      ],
      "metadata": {
        "id": "E-wU6QkqnZWY"
      }
    }
  ]
}