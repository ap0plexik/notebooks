{
  "nbformat": 4,
  "nbformat_minor": 0,
  "metadata": {
    "colab": {
      "provenance": [],
      "authorship_tag": "ABX9TyPUcnRmhW7I4V2J486Kf5Cd",
      "include_colab_link": true
    },
    "kernelspec": {
      "name": "python3",
      "display_name": "Python 3"
    },
    "language_info": {
      "name": "python"
    }
  },
  "cells": [
    {
      "cell_type": "markdown",
      "metadata": {
        "id": "view-in-github",
        "colab_type": "text"
      },
      "source": [
        "<a href=\"https://colab.research.google.com/github/ap0plexik/notebooks/blob/trunk/files/api_example_dog_ceo.ipynb\" target=\"_parent\"><img src=\"https://colab.research.google.com/assets/colab-badge.svg\" alt=\"Open In Colab\"/></a>"
      ]
    },
    {
      "cell_type": "markdown",
      "source": [
        "Basic API Request and Response example using Python."
      ],
      "metadata": {
        "id": "zFDTzWr54nTN"
      }
    },
    {
      "cell_type": "code",
      "execution_count": null,
      "metadata": {
        "id": "1tZvzIRimiJK"
      },
      "outputs": [],
      "source": [
        "import requests\n",
        "\n",
        "# Check out Dog AIP: https://dog.ceo/dog-api/\n",
        "api_url = \"https://dog.ceo/api/breeds/image/random\"\n",
        "\n",
        "# Send an HTTP Request with the API Endpoint (\"url\") and get a Response.\n",
        "response = requests.get(api_url)\n",
        "\n",
        "# Convert the response into JSON so it's easier to work with.\n",
        "data = response.json()\n",
        "\n",
        "# Pick out the image URL that Dog CEO sent us.\n",
        "img_url = data['message']\n",
        "\n",
        "# Make a cutesy link so you can see the image they sent you. \n",
        "print(f\"Click this -> {img_url}\")\n",
        "\n"
      ]
    },
    {
      "cell_type": "markdown",
      "source": [
        "Stuff to try:\n",
        "\n",
        "* Read the [API documentation](https://dog.ceo/dog-api/) and try to change the `api_url` above to get you one specific breed of dog\n",
        "* Use `print(response)` to view the whole response\n",
        "* Use `print(data)` to see our JSON data"
      ],
      "metadata": {
        "id": "ZC2JrAK-7yI2"
      }
    }
  ]
}