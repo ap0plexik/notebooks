{
  "nbformat": 4,
  "nbformat_minor": 0,
  "metadata": {
    "colab": {
      "provenance": [],
      "authorship_tag": "ABX9TyPqHXfAkq6adfiCmCOxm70y",
      "include_colab_link": true
    },
    "kernelspec": {
      "name": "python3",
      "display_name": "Python 3"
    },
    "language_info": {
      "name": "python"
    }
  },
  "cells": [
    {
      "cell_type": "markdown",
      "metadata": {
        "id": "view-in-github",
        "colab_type": "text"
      },
      "source": [
        "<a href=\"https://colab.research.google.com/github/ap0plexik/notebooks/blob/trunk/files/text_to_speech.ipynb\" target=\"_parent\"><img src=\"https://colab.research.google.com/assets/colab-badge.svg\" alt=\"Open In Colab\"/></a>"
      ]
    },
    {
      "cell_type": "markdown",
      "source": [
        "This is a text-to-audio generator using SpeechT5 with a gradio interface.\n",
        "\n",
        "It saves generated audio automatically to an `/output` folder. To send audio files to your Google Drive, connect to your Drive in the first code block, then when you are done, run the last code block. Note that this notebook's `/output` directory will be wiped when you restart this runtime."
      ],
      "metadata": {
        "id": "UWBjb7PjXqGY"
      }
    },
    {
      "cell_type": "code",
      "source": [
        "## If desired, save to your Google Drive.\n",
        "\n",
        "# All audio is saved to the /output directory by default.\n",
        "# If, later, you'd like to move or copy your audio files into your Google Drive,\n",
        "# run this code block.\n",
        "\n",
        "# Connect to your Google Drive.\n",
        "from google.colab import drive\n",
        "drive.mount('/content/drive/')\n",
        "\n",
        "# Audio Output directory.  Make sure this folser exists before you proceed.\n",
        "# '/content/drive/MyDrive/tt5'"
      ],
      "metadata": {
        "id": "Q4b2FCNsa7mr"
      },
      "execution_count": null,
      "outputs": []
    },
    {
      "cell_type": "code",
      "source": [
        "!pip install -q git+https://github.com/huggingface/transformers.git\n",
        "!pip install -q torch\n",
        "!pip install -q torchaudio\n",
        "!pip install -q soundfile\n",
        "!pip install -q librosa\n",
        "!pip install -q samplerate\n",
        "!pip install -q resampy\n",
        "!pip install -q sentencepiece\n",
        "!pip install -q gradio\n",
        "!git lfs install\n",
        "!git clone https://huggingface.co/spaces/Matthijs/speecht5-tts-demo\n",
        "!mkdir output"
      ],
      "metadata": {
        "colab": {
          "base_uri": "https://localhost:8080/"
        },
        "id": "cEyL1f5wE_Gt",
        "outputId": "32296982-190f-4fd8-c78c-bf124d05891a"
      },
      "execution_count": 37,
      "outputs": [
        {
          "output_type": "stream",
          "name": "stdout",
          "text": [
            "  Installing build dependencies ... \u001b[?25l\u001b[?25hdone\n",
            "  Getting requirements to build wheel ... \u001b[?25l\u001b[?25hdone\n",
            "  Preparing metadata (pyproject.toml) ... \u001b[?25l\u001b[?25hdone\n",
            "Error: Failed to call git rev-parse --git-dir: exit status 128 \n",
            "Git LFS initialized.\n",
            "fatal: destination path 'speecht5-tts-demo' already exists and is not an empty directory.\n",
            "mkdir: cannot create directory ‘output’: File exists\n"
          ]
        }
      ]
    },
    {
      "cell_type": "code",
      "execution_count": 47,
      "metadata": {
        "id": "Uhj0As_KD8BU"
      },
      "outputs": [],
      "source": [
        "import gradio as gr\n",
        "import librosa\n",
        "import numpy as np\n",
        "import torch\n",
        "import io\n",
        "import os\n",
        "import re\n",
        "import string\n",
        "import time\n",
        "from pydub import AudioSegment\n",
        "from transformers import SpeechT5Processor, SpeechT5ForTextToSpeech, SpeechT5HifiGan\n",
        "\n",
        "checkpoint = \"microsoft/speecht5_tts\"\n",
        "processor = SpeechT5Processor.from_pretrained(checkpoint)\n",
        "model = SpeechT5ForTextToSpeech.from_pretrained(checkpoint)\n",
        "vocoder = SpeechT5HifiGan.from_pretrained(\"microsoft/speecht5_hifigan\")\n",
        "\n",
        "\n",
        "speaker_embeddings = {\n",
        "    \"BDL\": \"speecht5-tts-demo/spkemb/cmu_us_bdl_arctic-wav-arctic_a0009.npy\",\n",
        "    \"CLB\": \"speecht5-tts-demo/spkemb/cmu_us_clb_arctic-wav-arctic_a0144.npy\",\n",
        "    \"KSP\": \"speecht5-tts-demo/spkemb/cmu_us_ksp_arctic-wav-arctic_b0087.npy\",\n",
        "    \"RMS\": \"speecht5-tts-demo/spkemb/cmu_us_rms_arctic-wav-arctic_b0353.npy\",\n",
        "    \"SLT\": \"speecht5-tts-demo/spkemb/cmu_us_slt_arctic-wav-arctic_a0508.npy\",\n",
        "}\n",
        "\n",
        "def predict(text, speaker):\n",
        "    if len(text.strip()) == 0:\n",
        "        return (16000, np.zeros(0).astype(np.int16))\n",
        "\n",
        "    inputs = processor(text=text, return_tensors=\"pt\")\n",
        "\n",
        "    # limit input length\n",
        "    input_ids = inputs[\"input_ids\"]\n",
        "    input_ids = input_ids[..., :model.config.max_text_positions]\n",
        "\n",
        "    if speaker == \"Surprise Me!\":\n",
        "        # load one of the provided speaker embeddings at random\n",
        "        idx = np.random.randint(len(speaker_embeddings))\n",
        "        key = list(speaker_embeddings.keys())[idx]\n",
        "        speaker_embedding = np.load(speaker_embeddings[key])\n",
        "\n",
        "        # randomly shuffle the elements\n",
        "        np.random.shuffle(speaker_embedding)\n",
        "\n",
        "        # randomly flip half the values\n",
        "        x = (np.random.rand(512) >= 0.5) * 1.0\n",
        "        x[x == 0] = -1.0\n",
        "        speaker_embedding *= x\n",
        "\n",
        "        #speaker_embedding = np.random.rand(512).astype(np.float32) * 0.3 - 0.15\n",
        "    else:\n",
        "        speaker_embedding = np.load(speaker_embeddings[speaker[:3]])\n",
        "\n",
        "    speaker_embedding = torch.tensor(speaker_embedding).unsqueeze(0)\n",
        "\n",
        "    speech = model.generate_speech(input_ids, speaker_embedding, vocoder=vocoder)\n",
        "\n",
        "    speech = (speech.numpy() * 32767).astype(np.int16)\n",
        "    \n",
        "    save_as_mp3(speech,text)\n",
        "\n",
        "    return (16000, speech)\n",
        "\n",
        "def save_as_mp3(audio,text):\n",
        "    audio = AudioSegment(audio.tobytes(), frame_rate=16000, sample_width=2, channels=1)\n",
        "    print('here')\n",
        "    mp3 = io.BytesIO()\n",
        "    audio.export(mp3, format='mp3')\n",
        "    mp3.seek(0)\n",
        "\n",
        "    filename = text_to_filename(text)\n",
        "    filepath = os.path.join('/content/output', filename)\n",
        "    print(filepath)\n",
        "    with open(filepath, \"wb\") as f:\n",
        "        f.write(mp3.read())\n",
        "\n",
        "    print(filepath)\n",
        "\n",
        "def text_to_filename(text):\n",
        "    # Remove punctuation and apostrophes, replace spaces with hyphens\n",
        "    s = re.sub(r'[^\\w\\s-]', '', text).strip().replace(' ', '-')\n",
        "    # Convert to lowercase and remove any remaining hyphens\n",
        "    s = s.lower().strip('-')\n",
        "    # Use first 10 chars of text\n",
        "    s = s[:10] + \".mp3\"\n",
        "    timestamp = str(int(time.time()))\n",
        "    file_name = f\"{timestamp}_{s}\"\n",
        "    return file_name\n",
        "\n",
        "\n",
        "title = \"SpeechT5: Speech Synthesis\"\n",
        "\n",
        "examples = [\n",
        "    [\"It is not in the stars to hold our destiny but in ourselves.\", \"BDL (male)\"],\n",
        "    [\"The octopus and Oliver went to the opera in October.\", \"CLB (female)\"],\n",
        "    [\"She sells seashells by the seashore. I saw a kitten eating chicken in the kitchen.\", \"RMS (male)\"],\n",
        "    [\"Brisk brave brigadiers brandished broad bright blades, blunderbusses, and bludgeons—balancing them badly.\", \"SLT (female)\"],\n",
        "    [\"A synonym for cinnamon is a cinnamon synonym.\", \"BDL (male)\"],\n",
        "    [\"How much wood would a woodchuck chuck if a woodchuck could chuck wood? He would chuck, he would, as much as he could, and chuck as much wood as a woodchuck would if a woodchuck could chuck wood.\", \"CLB (female)\"],\n",
        "]\n",
        "\n",
        "description = \"This can create up to ~30 seconds of audio, which is about 100 words or about 500 characters. Even then, it can take quite a while to render.\"\n"
      ]
    },
    {
      "cell_type": "code",
      "source": [
        "# Start/Stop this block to re-start the interface.\n",
        "gr.Interface(\n",
        "    fn=predict,\n",
        "    inputs=[\n",
        "        gr.Text(label=\"Input Text\",lines=5),\n",
        "        gr.Radio(label=\"Speaker\", choices=[\n",
        "            \"BDL (male)\",\n",
        "            \"CLB (female)\",\n",
        "            \"KSP (male)\",\n",
        "            \"RMS (male)\",\n",
        "            \"SLT (female)\",\n",
        "            \"Surprise Me!\"\n",
        "        ],\n",
        "        value=\"BDL (male)\"),\n",
        "    ],\n",
        "    outputs=[\n",
        "        gr.Audio(label=\"Generated Speech\", type=\"numpy\"),\n",
        "    ],\n",
        "    title=title,\n",
        "    description=description,\n",
        "    examples=examples,\n",
        ").launch(share=True,debug=True)\n"
      ],
      "metadata": {
        "colab": {
          "base_uri": "https://localhost:8080/",
          "height": 926
        },
        "id": "aVK0b5a6ZqLU",
        "outputId": "f3e5f707-3420-4cce-fcc2-12a2fb91ab35"
      },
      "execution_count": null,
      "outputs": [
        {
          "metadata": {
            "tags": null
          },
          "name": "stdout",
          "output_type": "stream",
          "text": [
            "Colab notebook detected. This cell will run indefinitely so that you can see errors and logs. To turn off, set debug=False in launch().\n",
            "Running on public URL: https://af05974209b44306f4.gradio.live\n",
            "\n",
            "This share link expires in 72 hours. For free permanent hosting and GPU upgrades (NEW!), check out Spaces: https://huggingface.co/spaces\n"
          ]
        },
        {
          "data": {
            "text/html": [
              "<div><iframe src=\"https://af05974209b44306f4.gradio.live\" width=\"100%\" height=\"500\" allow=\"autoplay; camera; microphone; clipboard-read; clipboard-write;\" frameborder=\"0\" allowfullscreen></iframe></div>"
            ],
            "text/plain": [
              "<IPython.core.display.HTML object>"
            ]
          },
          "metadata": {},
          "output_type": "display_data"
        },
        {
          "output_type": "stream",
          "name": "stdout",
          "text": [
            "here\n",
            "/content/output/1677762762_lets-try-t.mp3\n",
            "/content/output/1677762762_lets-try-t.mp3\n",
            "here\n",
            "/content/output/1677762777_lets-try-t.mp3\n",
            "/content/output/1677762777_lets-try-t.mp3\n",
            "here\n",
            "/content/output/1677762792_lets-try-t.mp3\n",
            "/content/output/1677762792_lets-try-t.mp3\n",
            "here\n",
            "/content/output/1677762802_lets-try-t.mp3\n",
            "/content/output/1677762802_lets-try-t.mp3\n",
            "here\n",
            "/content/output/1677762810_lets-try-t.mp3\n",
            "/content/output/1677762810_lets-try-t.mp3\n",
            "here\n",
            "/content/output/1677762835_lets-try-t.mp3\n",
            "/content/output/1677762835_lets-try-t.mp3\n"
          ]
        }
      ]
    },
    {
      "cell_type": "code",
      "source": [
        "# Send it to Drive.\n",
        "# Make sure you mounted Drive back at the beginning of this notebook.\n",
        "# Be sure to make sure you have a folder in Google Drive called 'tt5'.\n",
        "# Don't uncomment both commands and run this. You're not gonna have a good time.\n",
        "\n",
        "# Uncomment to Move all files to Drive and remove them from this notebook.\n",
        "# !mv -v /content/output/* /content/drive/MyDrive/tt5/\n",
        "\n",
        "# This just sends a Copy to Google Drive. \n",
        "# Doesn't delete anything inside our notebook's /output directory.\n",
        "!cp -v /content/output/* /content/drive/MyDrive/tt5/"
      ],
      "metadata": {
        "colab": {
          "base_uri": "https://localhost:8080/"
        },
        "id": "9o4xN0M6YGL6",
        "outputId": "988437f5-c82a-49c2-bec2-ffbc10378bc7"
      },
      "execution_count": 44,
      "outputs": [
        {
          "output_type": "stream",
          "name": "stdout",
          "text": [
            "'/content/output/1677762128_its-pretty.mp3' -> '/content/drive/MyDrive/tt5/1677762128_its-pretty.mp3'\n"
          ]
        }
      ]
    }
  ]
}